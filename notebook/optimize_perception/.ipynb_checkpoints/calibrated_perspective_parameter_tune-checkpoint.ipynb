{
 "cells": [
  {
   "cell_type": "code",
   "execution_count": 1,
   "metadata": {
    "collapsed": true
   },
   "outputs": [],
   "source": [
    "import sys\n",
    "import cv2\n",
    "import numpy as np\n",
    "import matplotlib.pyplot as plt\n",
    "import matplotlib.image as mpimg\n",
    "\n",
    "from replay_analysis import ExperienceRelay\n",
    "from replay_analysis import filter_frames\n",
    "from replay_analysis import get_debug_values\n",
    "from replay_analysis import analysis_case\n",
    "from replay_analysis import PerspectiveRender\n",
    "from replay_analysis import GradientAnalysis\n",
    "from replay_analysis import highlight_position\n",
    "from replay_analysis import pitch_roll_deviation\n",
    "\n",
    "from experiment_path import experiment\n",
    "from rover_spec import GROUND_TRUTH_MAP"
   ]
  },
  {
   "cell_type": "code",
   "execution_count": 2,
   "metadata": {
    "collapsed": true
   },
   "outputs": [],
   "source": [
    "gradient_analyzer = GradientAnalysis(GROUND_TRUTH_MAP)\n",
    "path = experiment('perception_optimize/calibrated_perspective')\n",
    "replay = ExperienceRelay(path=path)\n",
    "render = PerspectiveRender(scale=1, resolution=60)"
   ]
  },
  {
   "cell_type": "code",
   "execution_count": 3,
   "metadata": {},
   "outputs": [
    {
     "data": {
      "image/png": "[encoded data removed]",
      "text/plain": [
       "<PIL.Image.Image image mode=RGB size=200x200 at 0x7F01B93C4198>"
      ]
     },
     "execution_count": 3,
     "metadata": {},
     "output_type": "execute_result"
    }
   ],
   "source": [
    "# singular drop = 0\n",
    "replay.replay()\n",
    "replay.frames[-1].map"
   ]
  },
  {
   "cell_type": "code",
   "execution_count": 6,
   "metadata": {},
   "outputs": [
    {
     "data": {
      "image/png": "[encoded data removed]",
      "text/plain": [
       "<PIL.Image.Image image mode=RGB size=200x200 at 0x7F0180F3D5C0>"
      ]
     },
     "execution_count": 6,
     "metadata": {},
     "output_type": "execute_result"
    }
   ],
   "source": [
    "# singular drop = 3\n",
    "replay.reset_config({'PERCEPTION': {'SingularDrop': 3}})\n",
    "replay.replay()\n",
    "replay.frames[-1].map"
   ]
  },
  {
   "cell_type": "code",
   "execution_count": 2,
   "metadata": {},
   "outputs": [
    {
     "data": {
      "image/png": "[encoded data removed]",
      "text/plain": [
       "<PIL.Image.Image image mode=RGB size=200x200 at 0x7F73E76073C8>"
      ]
     },
     "execution_count": 2,
     "metadata": {},
     "output_type": "execute_result"
    }
   ],
   "source": [
    "#singular drop = 10\n",
    "gradient_analyzer = GradientAnalysis(GROUND_TRUTH_MAP)\n",
    "path = experiment('perception_optimize/calibrated_perspective')\n",
    "replay = ExperienceRelay(path=path)\n",
    "render = PerspectiveRender(scale=1, resolution=60)\n",
    "replay.replay()\n",
    "replay.frames[-1].map"
   ]
  },
  {
   "cell_type": "code",
   "execution_count": 5,
   "metadata": {},
   "outputs": [
    {
     "data": {
      "image/png": "[encoded data removed]",
      "text/plain": [
       "<matplotlib.figure.Figure at 0x7f4da04decf8>"
      ]
     },
     "metadata": {},
     "output_type": "display_data"
    }
   ],
   "source": [
    "ret = render.render(frames[20].debug['topdown'], inplace=True)"
   ]
  },
  {
   "cell_type": "code",
   "execution_count": 6,
   "metadata": {},
   "outputs": [
    {
     "data": {
      "image/png": "[encoded data removed]",
      "text/plain": [
       "<matplotlib.figure.Figure at 0x7f4d6121fb00>"
      ]
     },
     "metadata": {},
     "output_type": "display_data"
    }
   ],
   "source": [
    "ret = render.render(frames[0].debug['topdown'], inplace=True)"
   ]
  },
  {
   "cell_type": "code",
   "execution_count": 8,
   "metadata": {
    "collapsed": true
   },
   "outputs": [],
   "source": [
    "import numpy as np"
   ]
  },
  {
   "cell_type": "code",
   "execution_count": 11,
   "metadata": {
    "collapsed": true
   },
   "outputs": [],
   "source": [
    "\n",
    "def _quant_get_param(arr, precision):\n",
    "  arr_min = arr.min()\n",
    "  arr_span = arr.max() - arr_min\n",
    "  return arr_min, int(arr_span * precision + 1)\n",
    "\n",
    "\n",
    "def quant_unique(coords, precision):\n",
    "\n",
    "  x_min, x_span = _quant_get_param(coords[0, :], precision)\n",
    "  y_min, y_span = _quant_get_param(coords[1, :], precision)\n",
    "  quants = np.zeros((x_span, y_span), dtype=np.uint8)\n",
    "\n",
    "  x_quant = np.around((coords[0, :] - x_min) * precision)\n",
    "  y_quant = np.around((coords[1, :] - y_min) * precision)\n",
    "\n",
    "  x_quant = np.clip(x_quant, 0, x_span - 1).astype('uint32')\n",
    "  y_quant = np.clip(y_quant, 0, y_span - 1).astype('uint32')\n",
    "  quants[x_quant, y_quant] += 1\n",
    "  x_quant, y_quant = quants.nonzero()\n",
    "\n",
    "  x_coords = x_quant.astype('float32') / precision + x_min\n",
    "  y_coords = y_quant.astype('float32') / precision + y_min\n",
    "\n",
    "  return np.array([x_coords, y_coords])\n"
   ]
  },
  {
   "cell_type": "code",
   "execution_count": 12,
   "metadata": {},
   "outputs": [
    {
     "data": {
      "text/plain": [
       "array([[  0.51012152,   0.51012152,   0.51012152, ...,  35.88512039,\n",
       "         35.88512039,  35.88512039],\n",
       "       [ -0.4975239 ,  -0.3725239 ,  -0.2475239 , ...,   6.12747622,\n",
       "          6.25247622,   6.37747622]], dtype=float32)"
      ]
     },
     "execution_count": 12,
     "metadata": {},
     "output_type": "execute_result"
    }
   ],
   "source": [
    "quant_unique(coords, 8)"
   ]
  },
  {
   "cell_type": "code",
   "execution_count": null,
   "metadata": {
    "collapsed": true
   },
   "outputs": [],
   "source": []
  }
 ],
 "metadata": {
  "kernelspec": {
   "display_name": "Python 3",
   "language": "python",
   "name": "python3"
  },
  "language_info": {
   "codemirror_mode": {
    "name": "ipython",
    "version": 3
   },
   "file_extension": ".py",
   "mimetype": "text/x-python",
   "name": "python",
   "nbconvert_exporter": "python",
   "pygments_lexer": "ipython3",
   "version": "3.5.2"
  },
  "widgets": {
   "state": {},
   "version": "1.1.2"
  }
 },
 "nbformat": 4,
 "nbformat_minor": 2
}
