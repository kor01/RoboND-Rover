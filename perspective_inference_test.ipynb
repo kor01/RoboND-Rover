{
 "cells": [
  {
   "cell_type": "code",
   "execution_count": 50,
   "metadata": {
    "collapsed": true
   },
   "outputs": [],
   "source": [
    "import sys\n",
    "import numpy as np\n",
    "sys.path.append('./code/')\n",
    "import matplotlib.image as mpimg\n",
    "import matplotlib.pyplot as plt\n",
    "import cv2\n",
    "from rover_model.perception import PerspectiveInference\n",
    "from rover_model.perception import perspective_matrix\n",
    "from rover_model.perception import perspective_bias\n",
    "from rover_model.perception import ImagePerspectiveInference\n",
    "from rover_model.perception import ProjectionCoordinateInference\n",
    "from rover_resource import VIEW_POINT_POSITION\n",
    "from rover_resource import PIXEL_SCALING\n",
    "from rover_resource import CAMERA_POSITION\n",
    "from rover_resource import FRAME_SHAPE\n",
    "from rover_resource import DEFAULT_THRESHOLD\n",
    "from rover_agent.frame_geometry import color_thresh\n",
    "from rover_agent.frame_geometry import "
   ]
  },
  {
   "cell_type": "code",
   "execution_count": 2,
   "metadata": {
    "collapsed": true
   },
   "outputs": [],
   "source": [
    "image = mpimg.imread('./calibration_images/example_grid1.jpg')\n",
    "frame_shape = (FRAME_SHAPE[1], FRAME_SHAPE[0])\n",
    "img_perspect = ImagePerspectiveInference(\n",
    "    CAMERA_POSITION, VIEW_POINT_POSITION, \n",
    "    frame_shape, PIXEL_SCALING, 10, frame_shape)\n",
    "proj = ProjectionCoordinateInference(160, 2000)\n",
    "perspect = PerspectiveInference(CAMERA_POSITION, VIEW_POINT_POSITION)"
   ]
  },
  {
   "cell_type": "code",
   "execution_count": 56,
   "metadata": {},
   "outputs": [
    {
     "data": {
      "image/png": "[encoded data removed]",
      "text/plain": [
       "<matplotlib.figure.Figure at 0x11745b2b0>"
      ]
     },
     "metadata": {},
     "output_type": "display_data"
    }
   ],
   "source": [
    "th_image = color_thresh(image, DEFAULT_THRESHOLD)\n",
    "plt.imshow(th_image)\n",
    "plt.show()"
   ]
  },
  {
   "cell_type": "code",
   "execution_count": 88,
   "metadata": {
    "collapsed": true
   },
   "outputs": [],
   "source": [
    "particles = th_image.nonzero()\n",
    "particles = np.array([particles[1], particles[0]], dtype=np.float64)\n",
    "t_coords = proj(particles)\n",
    "s_coords = perspect.particle_transform(0, 0, t_coords)"
   ]
  },
  {
   "cell_type": "code",
   "execution_count": 116,
   "metadata": {},
   "outputs": [
    {
     "name": "stdout",
     "output_type": "stream",
     "text": [
      "2013.53905674 -4851.27307742\n",
      "102.741904748 8476.69014624\n"
     ]
    }
   ],
   "source": [
    "# scale and shift to render\n",
    "render_scale = 200\n",
    "scaled_s_coords = s_coords * render_scale\n",
    "# render to a 600 x 600\n",
    "print(scaled_s_coords[:, 1].max(), scaled_s_coords[:, 1].min())\n",
    "print(scaled_s_coords[:, 0].min(), scaled_s_coords[:, 0].max())\n",
    "scaled_s_coords[:, 1] += 300\n",
    "scaled_s_coords = np.around(scaled_s_coords).astype('uint32')\n",
    "scaled_s_coords = scaled_s_coords.clip(0, 599)\n",
    "render = np.zeros([600, 600], dtype=np.uint8)\n",
    "render[600 - scaled_s_coords[:,0], scaled_s_coords[:, 1]] += 1"
   ]
  },
  {
   "cell_type": "code",
   "execution_count": 117,
   "metadata": {},
   "outputs": [
    {
     "data": {
      "image/png": "[encoded data removed]",
      "text/plain": [
       "<matplotlib.figure.Figure at 0x1178de048>"
      ]
     },
     "metadata": {},
     "output_type": "display_data"
    }
   ],
   "source": [
    "plt.imshow(render)\n",
    "plt.show()"
   ]
  },
  {
   "cell_type": "code",
   "execution_count": 5,
   "metadata": {
    "collapsed": true
   },
   "outputs": [],
   "source": [
    "particles = np.meshgrid(range(320), range(160))"
   ]
  },
  {
   "cell_type": "code",
   "execution_count": 6,
   "metadata": {
    "collapsed": true
   },
   "outputs": [],
   "source": [
    "particles = [x.reshape(-1) for x in particles]"
   ]
  },
  {
   "cell_type": "code",
   "execution_count": 7,
   "metadata": {
    "collapsed": true
   },
   "outputs": [],
   "source": [
    "particles = np.array(particles)"
   ]
  },
  {
   "cell_type": "code",
   "execution_count": 8,
   "metadata": {},
   "outputs": [
    {
     "data": {
      "text/plain": [
       "(2, 51200)"
      ]
     },
     "execution_count": 8,
     "metadata": {},
     "output_type": "execute_result"
    }
   ],
   "source": [
    "particles.shape"
   ]
  },
  {
   "cell_type": "code",
   "execution_count": 108,
   "metadata": {},
   "outputs": [
    {
     "data": {
      "text/plain": [
       "13.494304568954647"
      ]
     },
     "execution_count": 108,
     "metadata": {},
     "output_type": "execute_result"
    }
   ],
   "source": [
    "scaled_s_coords[:,0].mean()"
   ]
  },
  {
   "cell_type": "code",
   "execution_count": 10,
   "metadata": {
    "collapsed": true
   },
   "outputs": [],
   "source": [
    "coords = proj(particles)"
   ]
  },
  {
   "cell_type": "code",
   "execution_count": 15,
   "metadata": {
    "collapsed": true
   },
   "outputs": [],
   "source": [
    "new_coords = perspect.particle_transform(roll=0, pitch=0, particles=coords)"
   ]
  },
  {
   "cell_type": "code",
   "execution_count": 19,
   "metadata": {},
   "outputs": [
    {
     "data": {
      "text/plain": [
       "array([-0.06461309, -0.43743215])"
      ]
     },
     "execution_count": 19,
     "metadata": {},
     "output_type": "execute_result"
    }
   ],
   "source": [
    "new_coords[0]"
   ]
  },
  {
   "cell_type": "code",
   "execution_count": 48,
   "metadata": {},
   "outputs": [
    {
     "name": "stdout",
     "output_type": "stream",
     "text": [
      "[[ 0.04 ]\n",
      " [ 0.111]]\n"
     ]
    }
   ],
   "source": [
    "pixel = np.array([[222], [80]])\n",
    "ret = proj(pixel)\n",
    "print(ret)\n",
    "pixel = np.array([[120.78], [1]])\n",
    "ret = proj(pixel)"
   ]
  },
  {
   "cell_type": "code",
   "execution_count": 38,
   "metadata": {},
   "outputs": [
    {
     "name": "stdout",
     "output_type": "stream",
     "text": [
      "[[-0.0683009  -0.11593956]]\n"
     ]
    }
   ],
   "source": [
    "print(perspect.particle_transform(0, 0, ret))"
   ]
  },
  {
   "cell_type": "code",
   "execution_count": 122,
   "metadata": {},
   "outputs": [
    {
     "data": {
      "image/png": "[encoded data removed]",
      "text/plain": [
       "<matplotlib.figure.Figure at 0x11799bda0>"
      ]
     },
     "metadata": {},
     "output_type": "display_data"
    }
   ],
   "source": [
    "def perspect_transform(img, src, dst):\n",
    "\n",
    "    # Get transform matrix using cv2.getPerspectivTransform()\n",
    "    M = cv2.getPerspectiveTransform(src, dst)\n",
    "    # Warp image using cv2.warpPerspective()\n",
    "    # keep same size as input image\n",
    "    warped = cv2.warpPerspective(img, M, (img.shape[1], img.shape[0]))\n",
    "    # Return the result\n",
    "    return warped\n",
    "\n",
    "source = np.float32([[14.32 , 140.71], [ 120.78, 95.5], [199.49 ,96.84], [302.7 ,140.71]])\n",
    "\n",
    "dst_size = 5\n",
    "bottom_offset = 6\n",
    "destination = np.float32([[image.shape[1]/2 - dst_size, image.shape[0] - bottom_offset],\n",
    "                  [image.shape[1]/2 - dst_size, image.shape[0] - bottom_offset - 2*dst_size],\n",
    "                  [image.shape[1]/2 + dst_size, image.shape[0] - bottom_offset - 2*dst_size], \n",
    "                  [image.shape[1]/2 + dst_size, image.shape[0] - bottom_offset]])\n",
    "\n",
    "warped = perspect_transform(th_image, source, destination)\n",
    "plt.imshow(warped)\n",
    "plt.show()"
   ]
  },
  {
   "cell_type": "code",
   "execution_count": 125,
   "metadata": {},
   "outputs": [
    {
     "data": {
      "text/plain": [
       "array([[  2.13895972e-02,  -2.10893154e+00,   1.64161320e+02],\n",
       "       [  4.75842975e-02,  -2.08277627e+00,   1.60959310e+02],\n",
       "       [  3.08988953e-04,  -1.32033615e-02,   1.00000000e+00]])"
      ]
     },
     "execution_count": 125,
     "metadata": {},
     "output_type": "execute_result"
    }
   ],
   "source": [
    "cv2.getPerspectiveTransform(source, destination)"
   ]
  },
  {
   "cell_type": "code",
   "execution_count": 126,
   "metadata": {},
   "outputs": [
    {
     "data": {
      "text/plain": [
       "(23791, 2)"
      ]
     },
     "execution_count": 126,
     "metadata": {},
     "output_type": "execute_result"
    }
   ],
   "source": [
    "s_coords.shape"
   ]
  },
  {
   "cell_type": "code",
   "execution_count": null,
   "metadata": {
    "collapsed": true
   },
   "outputs": [],
   "source": []
  }
 ],
 "metadata": {
  "kernelspec": {
   "display_name": "Python 3",
   "language": "python",
   "name": "python3"
  },
  "language_info": {
   "codemirror_mode": {
    "name": "ipython",
    "version": 3
   },
   "file_extension": ".py",
   "mimetype": "text/x-python",
   "name": "python",
   "nbconvert_exporter": "python",
   "pygments_lexer": "ipython3",
   "version": "3.5.2"
  },
  "widgets": {
   "state": {},
   "version": "1.1.2"
  }
 },
 "nbformat": 4,
 "nbformat_minor": 2
}
