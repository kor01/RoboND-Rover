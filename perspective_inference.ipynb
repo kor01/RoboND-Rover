{
 "cells": [
  {
   "cell_type": "code",
   "execution_count": 2,
   "metadata": {
    "collapsed": true
   },
   "outputs": [],
   "source": [
    "import numpy as np"
   ]
  },
  {
   "cell_type": "code",
   "execution_count": 13,
   "metadata": {},
   "outputs": [
    {
     "ename": "IndentationError",
     "evalue": "unexpected indent (<ipython-input-13-d20a5bcb9603>, line 34)",
     "output_type": "error",
     "traceback": [
      "\u001b[0;36m  File \u001b[0;32m\"<ipython-input-13-d20a5bcb9603>\"\u001b[0;36m, line \u001b[0;32m34\u001b[0m\n\u001b[0;31m    + (-cy*ey + cx*ez*np.cos(roll))*np.sin(pitch)\u001b[0m\n\u001b[0m    ^\u001b[0m\n\u001b[0;31mIndentationError\u001b[0m\u001b[0;31m:\u001b[0m unexpected indent\n"
     ]
    }
   ],
   "source": [
    "def perspect_matrix_constant(c, e, roll, pitch):\n",
    "    ret = np.zeros((2, 2), dtype=np.float64)\n",
    "    cx, cy, cz = c\n",
    "    ex, ey, ez = e\n",
    "    ret[0, 0] = -ex * np.cos(pitch) + ez * np.sin(pitch)* np.sin(roll)\n",
    "    ret[0, 1] = ex * np.sin(pitch) + ez * np.cos(pitch) * np.sin(roll)\n",
    "    ret[1, 0] = -ey * np.cos(pitch) - ez * np.cos(roll) * np.sin(pitch)\n",
    "    ret[1, 1] = -ez * np.cos(pitch) * np.cos(roll) + ey * np.sin(pitch)\n",
    "    return ret\n",
    "\n",
    "def perspective_matrix_target(roll, pitch, tx, ty):\n",
    "    assert tx.shape[1] == 2\n",
    "    batch_size = tx.shape[0]\n",
    "    ret = [[ tx * np.cos(pitch), -tx * np.sin(pitch)], \n",
    "           [ty * np.cos(pitch), -ty * np.sin(pitch)]]\n",
    "    return np.array(ret, dtype=np.float64)\n",
    "\n",
    "\n",
    "def perspective_bias_target(c, e, roll, pitch, tx, ty):\n",
    "    cx, cy, cz = c\n",
    "    ex, ey, ez = e\n",
    "    coeffX = -ez - cx*np.cos(pitch) + cy*np.sin(pitch)\n",
    "    coeffY = -ez - cx*np.cos(pitch) + cy*np.sin(pitch)\n",
    "    ret = np.array([coeffX*tx, coeffY*ty], dtype=np.float64)\n",
    "    return ret\n",
    "\n",
    "def perspective_bias_constant(c, e, roll, pitch):\n",
    "    cx, cy, cz = c\n",
    "    ex, ey, ez = e\n",
    "    ret = np.zeros(2, 1)\n",
    "    ret[0] = -cz*ez*np.cos(roll) \\\n",
    "        - sin(pitch)*(cy*ex + cx*ez*np.sin(roll)) \\\n",
    "        + np.cos(pitch)*(cx*ex - cy*ez*sin(roll))\n",
    "        \n",
    "    ret[1] = np.cos(pitch)*(cx*ey + cy*ez*np.cos(roll)) \n",
    "        + (-cy*ey + cx*ez*np.cos(roll))*np.sin(pitch)\n",
    "        - cz*ez*np.sin(roll)\n",
    "    return ret\n",
    "\n",
    "\n",
    "class PerspectiveInference(object):\n",
    "    \n",
    "    def __init__(self, camera_pos, view_pos):\n",
    "        self._camera_pos = camera_pos\n",
    "        self._view_pos = view_pos\n",
    "    \n",
    "    def __call__(roll, pitch, particles):\n",
    "        pass\n",
    "        "
   ]
  },
  {
   "cell_type": "code",
   "execution_count": 9,
   "metadata": {},
   "outputs": [
    {
     "data": {
      "text/plain": [
       "array([[-2.13123717,  4.44211511],\n",
       "       [-6.91232576, -2.22377922]])"
      ]
     },
     "execution_count": 9,
     "metadata": {},
     "output_type": "execute_result"
    }
   ],
   "source": [
    "perspect_matrix_constant([1,2,3], [4,5,6], 0.5, 0.5)"
   ]
  },
  {
   "cell_type": "code",
   "execution_count": null,
   "metadata": {
    "collapsed": true
   },
   "outputs": [],
   "source": []
  }
 ],
 "metadata": {
  "kernelspec": {
   "display_name": "Python 3",
   "language": "python",
   "name": "python3"
  },
  "language_info": {
   "codemirror_mode": {
    "name": "ipython",
    "version": 3
   },
   "file_extension": ".py",
   "mimetype": "text/x-python",
   "name": "python",
   "nbconvert_exporter": "python",
   "pygments_lexer": "ipython3",
   "version": "3.5.2"
  },
  "widgets": {
   "state": {},
   "version": "1.1.2"
  }
 },
 "nbformat": 4,
 "nbformat_minor": 2
}
