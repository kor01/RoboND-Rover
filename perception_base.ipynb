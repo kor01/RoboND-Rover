{
 "cells": [
  {
   "cell_type": "code",
   "execution_count": 19,
   "metadata": {
    "collapsed": true
   },
   "outputs": [],
   "source": [
    "import cv2\n",
    "import numpy as np\n",
    "import matplotlib.image as mpimg\n",
    "import matplotlib.pyplot as plt\n",
    "\n",
    "class DataSchema(object):\n",
    "    def __init__(self, schema):\n",
    "        self._idx2name = schema.split(',')\n",
    "        self._name2idx = dict(((x, y) for (y, x) in enumerate(schema)))\n",
    "    \n",
    "    def name(idx):\n",
    "        return self._ind2name[idx]\n",
    "    \n",
    "    def idx(name):\n",
    "        return self._name2idx[name]\n",
    "\n",
    "STR_SCHEMA = 'SteerAngle,Throttle,Brake,Speed,X_Position,Y_Position,Pitch,Yaw,Roll'\n",
    "SCHEMA = DataSchema(STR_SCHEMA)\n",
    "FRAME_SHAPE = (160, 320)\n",
    "DST_SIZE = 5\n",
    "BOTTOM_OFFSET = 6\n",
    "\n",
    "SOURCE = np.float32([[14.32 , 140.71], [ 120.78, 95.5], [199.49 ,96.84], [302.7 ,140.71]])\n",
    "\n",
    "TARGET = np.float32([[FRAME_SHAPE[1]/2 - DST_SIZE, \n",
    "                      FRAME_SHAPE[0] - BOTTOM_OFFSET],\n",
    "                  [FRAME_SHAPE[1]/2 - DST_SIZE, \n",
    "                   FRAME_SHAPE[0] - BOTTOM_OFFSET - 2 * DST_SIZE],\n",
    "                  [FRAME_SHAPE[1]/2 + DST_SIZE, \n",
    "                   FRAME_SHAPE[0] - BOTTOM_OFFSET - 2 * DST_SIZE], \n",
    "                  [FRAME_SHAPE[1]/2 + DST_SIZE, \n",
    "                   FRAME_SHAPE[0] - BOTTOM_OFFSET]])\n",
    "\n",
    "FRAME_ORIGIN = (FRAME_SHAPE[1]/2, FRAME_SHAPE[0])\n",
    "\n",
    "def rover_coords(binary_img):\n",
    "    # Extract xpos and ypos pixel positions from binary_img and\n",
    "    # Convert xpos and ypos to rover-centric coordinates\n",
    "    ypos, xpos = binary_img.nonzero()\n",
    "    xpos = xpos.astype('float32')\n",
    "    ypos = ypos.astype('float32')\n",
    "    nxpos = FRAME_ORIGIN[1] - ypos\n",
    "    nypos = FRAME_ORIGIN[0] - xpos\n",
    "    return nxpos, nypos"
   ]
  },
  {
   "cell_type": "code",
   "execution_count": 23,
   "metadata": {
    "collapsed": true
   },
   "outputs": [],
   "source": [
    "def load_dataset(path):    \n",
    "    with open(path) as ip:\n",
    "        lines = list(ip)\n",
    "    lines = filter(lambda x: STR_SCHEMA not in x, lines)\n",
    "    rows = [x.split(',') for x in lines]\n",
    "    images = [x[0] for x in rows]\n",
    "    features = [[float(x) for x in row[1:]] for row in rows]\n",
    "    features = np.array(features, dtype=np.float32)\n",
    "    \n",
    "    all_images = None\n",
    "    for index, img in enumerate(images):\n",
    "        image = mpimg.imread(img)\n",
    "        if all_images is None:\n",
    "            all_images = np.zeros((len(images),) + image.shape, dtype=image.dtype)\n",
    "        all_images[index] = image\n",
    "    return features, all_images"
   ]
  },
  {
   "cell_type": "code",
   "execution_count": 24,
   "metadata": {
    "collapsed": true,
    "scrolled": false
   },
   "outputs": [],
   "source": [
    "features, images = load_dataset('./recorder/2017_MAY_27/robot_log.csv')"
   ]
  },
  {
   "cell_type": "code",
   "execution_count": null,
   "metadata": {
    "collapsed": true
   },
   "outputs": [],
   "source": [
    "def color_thresh(img, rgb_thresh=(0, 0, 0)):\n",
    "    ####### TODO \n",
    "    # Create an empty array the same size in x and y as the image \n",
    "        # but just a single channel\n",
    "    # Apply the thresholds for RGB and \n",
    "        # assign 1's where threshold was exceeded\n",
    "    thresh = np.array(rgb_thresh)\n",
    "    thresh.reshape((1, 1, -1))\n",
    "    binary_image = img > thresh\n",
    "    binary_image = np.all(binary_image, axis=-1)\n",
    "    binary_image = binary_image.astype('uint8')\n",
    "    return binary_image\n",
    "\n",
    "def perspect_transform(img, src, dst):\n",
    "\n",
    "    # Get transform matrix using cv2.getPerspectivTransform()\n",
    "    M = cv2.getPerspectiveTransform(src, dst)\n",
    "    # Warp image using cv2.warpPerspective()\n",
    "    # keep same size as input image\n",
    "    warped = cv2.warpPerspective(img, M, (img.shape[1], img.shape[0]))\n",
    "    # Return the result\n",
    "    return warped"
   ]
  }
 ],
 "metadata": {
  "kernelspec": {
   "display_name": "Python 3",
   "language": "python",
   "name": "python3"
  },
  "language_info": {
   "codemirror_mode": {
    "name": "ipython",
    "version": 3
   },
   "file_extension": ".py",
   "mimetype": "text/x-python",
   "name": "python",
   "nbconvert_exporter": "python",
   "pygments_lexer": "ipython3",
   "version": "3.5.2"
  },
  "widgets": {
   "state": {},
   "version": "1.1.2"
  }
 },
 "nbformat": 4,
 "nbformat_minor": 2
}
