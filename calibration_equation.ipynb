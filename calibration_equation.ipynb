{
 "cells": [
  {
   "cell_type": "code",
   "execution_count": 2,
   "metadata": {
    "collapsed": true
   },
   "outputs": [],
   "source": [
    "import sympy as sp\n",
    "import numpy as np"
   ]
  },
  {
   "cell_type": "code",
   "execution_count": 3,
   "metadata": {
    "collapsed": true,
    "scrolled": false
   },
   "outputs": [],
   "source": [
    "Sx, Sy = sp.symbols('Sx, Sy', real=True)\n",
    "\n",
    "S = sp.Matrix([Sx, Sy, 0])\n",
    "\n",
    "Tx, Ty = sp.symbols('Tx, Ty', real=True)\n",
    "T = sp.Matrix([Tx, Ty])\n",
    "R_BC = sp.Matrix([[0, 0, 1], [0, -1, 0], [1, 0, 0]])\n",
    "\n",
    "Cx, Cy, Cz = sp.symbols('Cx, Cy, Cz', real=True)\n",
    "C = sp.Matrix([Cx, Cy, Cz])\n",
    "\n",
    "Ex, Ey, Ez = sp.symbols('Ex, Ey, Ez', real=True)\n",
    "E = sp.Matrix([Ex, Ey, Ez])"
   ]
  },
  {
   "cell_type": "code",
   "execution_count": 4,
   "metadata": {
    "collapsed": true
   },
   "outputs": [],
   "source": [
    "S_C = R_BC*(S - C)\n",
    "Target = E[:2, 0] + (S_C[:2, 0] - E[:2, 0]) * (-E[2] / (S_C[2] - E[2]))"
   ]
  },
  {
   "cell_type": "code",
   "execution_count": 5,
   "metadata": {
    "collapsed": true
   },
   "outputs": [],
   "source": [
    "eq = Target* (S_C[2] - E[2]) - T * (S_C[2] - E[2])"
   ]
  },
  {
   "cell_type": "code",
   "execution_count": 8,
   "metadata": {},
   "outputs": [
    {
     "name": "stdout",
     "output_type": "stream",
     "text": [
      "x equation: -Ex*(Cx + Ez - Sx) + Ez*(Cz + Ex) + Tx*(Cx + Ez - Sx)\n",
      "y equation: -Ey*(Cx + Ez - Sx) + Ez*(-Cy + Ey + Sy) + Ty*(Cx + Ez - Sx)\n"
     ]
    }
   ],
   "source": [
    "eq.simplify()\n",
    "print('x equation:', eq[0])\n",
    "print('y equation:', eq[1])"
   ]
  },
  {
   "cell_type": "code",
   "execution_count": 11,
   "metadata": {},
   "outputs": [
    {
     "name": "stdout",
     "output_type": "stream",
     "text": [
      "False\n"
     ]
    }
   ],
   "source": [
    "eqX2 = -Ez*(Cz + Ex) + (Ex - Tx)*(Cx + Ez - Sx)\n",
    "print(eqX2 == -eq[0])"
   ]
  },
  {
   "cell_type": "code",
   "execution_count": 12,
   "metadata": {},
   "outputs": [
    {
     "data": {
      "text/plain": [
       "-Ez*(Cz + Ex) + (Ex - Tx)*(Cx + Ez - Sx)"
      ]
     },
     "execution_count": 12,
     "metadata": {},
     "output_type": "execute_result"
    }
   ],
   "source": [
    "eqX2"
   ]
  },
  {
   "cell_type": "code",
   "execution_count": null,
   "metadata": {
    "collapsed": true
   },
   "outputs": [],
   "source": []
  }
 ],
 "metadata": {
  "kernelspec": {
   "display_name": "Python 3",
   "language": "python",
   "name": "python3"
  },
  "language_info": {
   "codemirror_mode": {
    "name": "ipython",
    "version": 3
   },
   "file_extension": ".py",
   "mimetype": "text/x-python",
   "name": "python",
   "nbconvert_exporter": "python",
   "pygments_lexer": "ipython3",
   "version": "3.5.2"
  },
  "widgets": {
   "state": {},
   "version": "1.1.2"
  }
 },
 "nbformat": 4,
 "nbformat_minor": 2
}
