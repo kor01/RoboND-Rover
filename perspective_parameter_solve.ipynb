{
 "cells": [
  {
   "cell_type": "code",
   "execution_count": 1,
   "metadata": {
    "collapsed": true
   },
   "outputs": [],
   "source": [
    "import tensorflow as tf\n",
    "import numpy as np"
   ]
  },
  {
   "cell_type": "code",
   "execution_count": 2,
   "metadata": {
    "collapsed": true,
    "scrolled": false
   },
   "outputs": [],
   "source": [
    "pc_init = np.array([[50.0, 0, 50.0]]).transpose()\n",
    "CE = np.array([[0, 0, -50.0]]).transpose()\n",
    "\n",
    "RCT = tf.placeholder(dtype=tf.float64, shape=(3, 3), name='CameraRotationTranspose')\n",
    "PC = tf.Variable(initial_value=pc_init , name='CameraPosition')\n",
    "CE = tf.Variable(initial_value=CE, name='CFrameViewPoint')\n",
    "h = -CE[2]\n",
    "points = tf.placeholder(dtype=tf.float64, shape=(3, 4))\n",
    "im_points_targets = tf.placeholder(dtype=tf.float64, shape=(2, 4))\n",
    "\n",
    "difference = points - PC\n",
    "\n",
    "C_points = tf.matmul(RCT, difference)\n",
    "\n",
    "coeff = h / (h + C_points[2, :])\n",
    "\n",
    "im_points = C_points[:2, :] * coeff + (1 - coeff) * CE[:2]"
   ]
  },
  {
   "cell_type": "code",
   "execution_count": 3,
   "metadata": {
    "collapsed": true
   },
   "outputs": [],
   "source": [
    "loss_target = tf.reduce_mean(tf.squared_difference(im_points_targets, im_points))"
   ]
  },
  {
   "cell_type": "code",
   "execution_count": 4,
   "metadata": {
    "collapsed": true
   },
   "outputs": [],
   "source": [
    "learning_rate = tf.Variable(initial_value=0.1)\n",
    "optimizer = tf.train.GradientDescentOptimizer(learning_rate=learning_rate)\n",
    "train_op = optimizer.minimize(loss_target)"
   ]
  },
  {
   "cell_type": "code",
   "execution_count": 5,
   "metadata": {
    "collapsed": true
   },
   "outputs": [],
   "source": [
    "source = np.float32([[14.32 , 140.71], [ 120.78, 95.5], [199.49 ,96.84], [302.7 ,140.71]])\n",
    "source = np.array([160 - source[:, 1], source[:, 0]])\n",
    "source = source.transpose()\n",
    "\n",
    "source = source.transpose()\n",
    "FRAME_SHAPE = (160, 320)\n",
    "FRAME_ORIGIN = (FRAME_SHAPE[1]/2, FRAME_SHAPE[0])\n",
    "DST_SIZE = 5\n",
    "BOTTOM_OFFSET = 6\n",
    "WORLD_SIZE = 200\n",
    "target = np.float32([[FRAME_SHAPE[1]/2 - DST_SIZE,\n",
    "               FRAME_SHAPE[0] - BOTTOM_OFFSET, 0],\n",
    "              [FRAME_SHAPE[1]/2 - DST_SIZE,\n",
    "               FRAME_SHAPE[0] - BOTTOM_OFFSET - 2 * DST_SIZE, 0],\n",
    "              [FRAME_SHAPE[1]/2 + DST_SIZE,\n",
    "               FRAME_SHAPE[0] - BOTTOM_OFFSET - 2 * DST_SIZE, 0],\n",
    "              [FRAME_SHAPE[1]/2 + DST_SIZE,\n",
    "               FRAME_SHAPE[0] - BOTTOM_OFFSET, 0]])\n",
    "target = target.transpose()"
   ]
  },
  {
   "cell_type": "code",
   "execution_count": 6,
   "metadata": {},
   "outputs": [
    {
     "name": "stdout",
     "output_type": "stream",
     "text": [
      "[[  19.28999329   64.5          63.16000366   19.28999329]\n",
      " [  14.31999969  120.77999878  199.49000549  302.70001221]]\n"
     ]
    }
   ],
   "source": [
    "print(source)"
   ]
  },
  {
   "cell_type": "code",
   "execution_count": 7,
   "metadata": {
    "collapsed": true
   },
   "outputs": [],
   "source": [
    "sess = tf.Session()\n",
    "sess.run(tf.global_variables_initializer())"
   ]
  },
  {
   "cell_type": "code",
   "execution_count": 8,
   "metadata": {},
   "outputs": [
    {
     "name": "stdout",
     "output_type": "stream",
     "text": [
      "current loss:  28538.00612\n",
      "current loss:  5779.47118424\n",
      "current loss:  5765.84460242\n",
      "current loss:  5751.54125154\n",
      "current loss:  5736.35974619\n",
      "current loss:  5720.05239979\n",
      "current loss:  5702.3047533\n",
      "current loss:  5682.70425705\n",
      "current loss:  5660.69014501\n",
      "current loss:  5648.54252756\n",
      "current loss:  5635.46889216\n",
      "current loss:  5621.30916519\n",
      "current loss:  5605.8632643\n",
      "current loss:  5588.87680543\n",
      "current loss:  5570.01997057\n",
      "current loss:  5548.8552576\n",
      "current loss:  5524.78638734\n",
      "current loss:  5511.41334703\n",
      "current loss:  5496.97353017\n",
      "current loss:  5481.299859\n",
      "current loss:  5464.18541899\n",
      "current loss:  5445.37010894\n",
      "current loss:  5424.52130847\n",
      "current loss:  5401.20507903\n",
      "current loss:  5374.84182105\n",
      "current loss:  5360.2799173\n",
      "current loss:  5344.63515216\n",
      "current loss:  5327.75473879\n",
      "current loss:  5309.45300776\n",
      "current loss:  5289.5015333\n",
      "current loss:  5267.61532735\n",
      "current loss:  5243.43308654\n",
      "current loss:  5216.48817462\n",
      "current loss:  5201.79467697\n",
      "current loss:  5186.16456759\n",
      "current loss:  5169.48627005\n",
      "current loss:  5151.62808645\n",
      "current loss:  5132.43319096\n",
      "current loss:  5111.71299272\n",
      "current loss:  5089.23819522\n",
      "current loss:  5064.72653495\n",
      "current loss:  5051.60007307\n",
      "current loss:  5037.82555405\n",
      "current loss:  5023.34395399\n",
      "current loss:  5008.08821147\n"
     ]
    },
    {
     "ename": "KeyboardInterrupt",
     "evalue": "",
     "output_type": "error",
     "traceback": [
      "\u001b[0;31m---------------------------------------------------------------------------\u001b[0m",
      "\u001b[0;31mKeyboardInterrupt\u001b[0m                         Traceback (most recent call last)",
      "\u001b[0;32m<ipython-input-8-7c1e885b386a>\u001b[0m in \u001b[0;36m<module>\u001b[0;34m()\u001b[0m\n\u001b[1;32m      5\u001b[0m     _, loss = sess.run([train_op, loss_target], \n\u001b[1;32m      6\u001b[0m                    feed_dict={points: target, im_points_targets: \n\u001b[0;32m----> 7\u001b[0;31m                               source, RCT: zero_rotation})\n\u001b[0m\u001b[1;32m      8\u001b[0m     \u001b[0;32mif\u001b[0m \u001b[0mi\u001b[0m \u001b[0;34m%\u001b[0m \u001b[0;36m5000\u001b[0m \u001b[0;34m==\u001b[0m \u001b[0;36m0\u001b[0m\u001b[0;34m:\u001b[0m\u001b[0;34m\u001b[0m\u001b[0m\n\u001b[1;32m      9\u001b[0m         \u001b[0mprint\u001b[0m\u001b[0;34m(\u001b[0m\u001b[0;34m'current loss: '\u001b[0m\u001b[0;34m,\u001b[0m \u001b[0mloss\u001b[0m\u001b[0;34m)\u001b[0m\u001b[0;34m\u001b[0m\u001b[0m\n",
      "\u001b[0;32m/Users/pu/.app/python3.6/envs/RoboND/lib/python3.5/site-packages/tensorflow/python/client/session.py\u001b[0m in \u001b[0;36mrun\u001b[0;34m(self, fetches, feed_dict, options, run_metadata)\u001b[0m\n\u001b[1;32m    776\u001b[0m     \u001b[0;32mtry\u001b[0m\u001b[0;34m:\u001b[0m\u001b[0;34m\u001b[0m\u001b[0m\n\u001b[1;32m    777\u001b[0m       result = self._run(None, fetches, feed_dict, options_ptr,\n\u001b[0;32m--> 778\u001b[0;31m                          run_metadata_ptr)\n\u001b[0m\u001b[1;32m    779\u001b[0m       \u001b[0;32mif\u001b[0m \u001b[0mrun_metadata\u001b[0m\u001b[0;34m:\u001b[0m\u001b[0;34m\u001b[0m\u001b[0m\n\u001b[1;32m    780\u001b[0m         \u001b[0mproto_data\u001b[0m \u001b[0;34m=\u001b[0m \u001b[0mtf_session\u001b[0m\u001b[0;34m.\u001b[0m\u001b[0mTF_GetBuffer\u001b[0m\u001b[0;34m(\u001b[0m\u001b[0mrun_metadata_ptr\u001b[0m\u001b[0;34m)\u001b[0m\u001b[0;34m\u001b[0m\u001b[0m\n",
      "\u001b[0;32m/Users/pu/.app/python3.6/envs/RoboND/lib/python3.5/site-packages/tensorflow/python/client/session.py\u001b[0m in \u001b[0;36m_run\u001b[0;34m(self, handle, fetches, feed_dict, options, run_metadata)\u001b[0m\n\u001b[1;32m    980\u001b[0m     \u001b[0;32mif\u001b[0m \u001b[0mfinal_fetches\u001b[0m \u001b[0;32mor\u001b[0m \u001b[0mfinal_targets\u001b[0m\u001b[0;34m:\u001b[0m\u001b[0;34m\u001b[0m\u001b[0m\n\u001b[1;32m    981\u001b[0m       results = self._do_run(handle, final_targets, final_fetches,\n\u001b[0;32m--> 982\u001b[0;31m                              feed_dict_string, options, run_metadata)\n\u001b[0m\u001b[1;32m    983\u001b[0m     \u001b[0;32melse\u001b[0m\u001b[0;34m:\u001b[0m\u001b[0;34m\u001b[0m\u001b[0m\n\u001b[1;32m    984\u001b[0m       \u001b[0mresults\u001b[0m \u001b[0;34m=\u001b[0m \u001b[0;34m[\u001b[0m\u001b[0;34m]\u001b[0m\u001b[0;34m\u001b[0m\u001b[0m\n",
      "\u001b[0;32m/Users/pu/.app/python3.6/envs/RoboND/lib/python3.5/site-packages/tensorflow/python/client/session.py\u001b[0m in \u001b[0;36m_do_run\u001b[0;34m(self, handle, target_list, fetch_list, feed_dict, options, run_metadata)\u001b[0m\n\u001b[1;32m   1030\u001b[0m     \u001b[0;32mif\u001b[0m \u001b[0mhandle\u001b[0m \u001b[0;32mis\u001b[0m \u001b[0;32mNone\u001b[0m\u001b[0;34m:\u001b[0m\u001b[0;34m\u001b[0m\u001b[0m\n\u001b[1;32m   1031\u001b[0m       return self._do_call(_run_fn, self._session, feed_dict, fetch_list,\n\u001b[0;32m-> 1032\u001b[0;31m                            target_list, options, run_metadata)\n\u001b[0m\u001b[1;32m   1033\u001b[0m     \u001b[0;32melse\u001b[0m\u001b[0;34m:\u001b[0m\u001b[0;34m\u001b[0m\u001b[0m\n\u001b[1;32m   1034\u001b[0m       return self._do_call(_prun_fn, self._session, handle, feed_dict,\n",
      "\u001b[0;32m/Users/pu/.app/python3.6/envs/RoboND/lib/python3.5/site-packages/tensorflow/python/client/session.py\u001b[0m in \u001b[0;36m_do_call\u001b[0;34m(self, fn, *args)\u001b[0m\n\u001b[1;32m   1037\u001b[0m   \u001b[0;32mdef\u001b[0m \u001b[0m_do_call\u001b[0m\u001b[0;34m(\u001b[0m\u001b[0mself\u001b[0m\u001b[0;34m,\u001b[0m \u001b[0mfn\u001b[0m\u001b[0;34m,\u001b[0m \u001b[0;34m*\u001b[0m\u001b[0margs\u001b[0m\u001b[0;34m)\u001b[0m\u001b[0;34m:\u001b[0m\u001b[0;34m\u001b[0m\u001b[0m\n\u001b[1;32m   1038\u001b[0m     \u001b[0;32mtry\u001b[0m\u001b[0;34m:\u001b[0m\u001b[0;34m\u001b[0m\u001b[0m\n\u001b[0;32m-> 1039\u001b[0;31m       \u001b[0;32mreturn\u001b[0m \u001b[0mfn\u001b[0m\u001b[0;34m(\u001b[0m\u001b[0;34m*\u001b[0m\u001b[0margs\u001b[0m\u001b[0;34m)\u001b[0m\u001b[0;34m\u001b[0m\u001b[0m\n\u001b[0m\u001b[1;32m   1040\u001b[0m     \u001b[0;32mexcept\u001b[0m \u001b[0merrors\u001b[0m\u001b[0;34m.\u001b[0m\u001b[0mOpError\u001b[0m \u001b[0;32mas\u001b[0m \u001b[0me\u001b[0m\u001b[0;34m:\u001b[0m\u001b[0;34m\u001b[0m\u001b[0m\n\u001b[1;32m   1041\u001b[0m       \u001b[0mmessage\u001b[0m \u001b[0;34m=\u001b[0m \u001b[0mcompat\u001b[0m\u001b[0;34m.\u001b[0m\u001b[0mas_text\u001b[0m\u001b[0;34m(\u001b[0m\u001b[0me\u001b[0m\u001b[0;34m.\u001b[0m\u001b[0mmessage\u001b[0m\u001b[0;34m)\u001b[0m\u001b[0;34m\u001b[0m\u001b[0m\n",
      "\u001b[0;31mKeyboardInterrupt\u001b[0m: "
     ]
    }
   ],
   "source": [
    "zero_rotation = np.array([[0, 0, 1], [0, -1, 0], [1, 0, 0]])\n",
    "for i in range(500000):\n",
    "    if i % 40000 == 0:\n",
    "        sess.run(learning_rate.assign(learning_rate / 2))\n",
    "    _, loss = sess.run([train_op, loss_target], \n",
    "                   feed_dict={points: target, im_points_targets: \n",
    "                              source, RCT: zero_rotation})\n",
    "    if i % 5000 == 0:\n",
    "        print('current loss: ', loss)"
   ]
  },
  {
   "cell_type": "code",
   "execution_count": 11,
   "metadata": {},
   "outputs": [
    {
     "data": {
      "text/plain": [
       "array([[  14.31999969,  120.77999878,  199.49000549,  302.70001221],\n",
       "       [ 140.71000671,   95.5       ,   96.83999634,  140.71000671],\n",
       "       [   0.        ,    0.        ,    0.        ,    0.        ]], dtype=float32)"
      ]
     },
     "execution_count": 11,
     "metadata": {},
     "output_type": "execute_result"
    }
   ],
   "source": [
    "source"
   ]
  },
  {
   "cell_type": "code",
   "execution_count": 9,
   "metadata": {},
   "outputs": [
    {
     "data": {
      "text/plain": [
       "array([[ 155.,  155.,  165.,  165.],\n",
       "       [ 154.,  144.,  144.,  154.],\n",
       "       [   0.,    0.,    0.,    0.]], dtype=float32)"
      ]
     },
     "execution_count": 9,
     "metadata": {},
     "output_type": "execute_result"
    }
   ],
   "source": [
    "target"
   ]
  },
  {
   "cell_type": "code",
   "execution_count": 10,
   "metadata": {},
   "outputs": [
    {
     "name": "stdout",
     "output_type": "stream",
     "text": [
      "[[ 155.  155.  165.  165.]\n",
      " [ 154.  144.  144.  154.]\n",
      " [   0.    0.    0.    0.]]\n"
     ]
    }
   ],
   "source": [
    "print(target)"
   ]
  },
  {
   "cell_type": "code",
   "execution_count": null,
   "metadata": {
    "collapsed": true
   },
   "outputs": [],
   "source": []
  }
 ],
 "metadata": {
  "kernelspec": {
   "display_name": "Python 3",
   "language": "python",
   "name": "python3"
  },
  "language_info": {
   "codemirror_mode": {
    "name": "ipython",
    "version": 3
   },
   "file_extension": ".py",
   "mimetype": "text/x-python",
   "name": "python",
   "nbconvert_exporter": "python",
   "pygments_lexer": "ipython3",
   "version": "3.5.2"
  },
  "widgets": {
   "state": {},
   "version": "1.1.2"
  }
 },
 "nbformat": 4,
 "nbformat_minor": 2
}
